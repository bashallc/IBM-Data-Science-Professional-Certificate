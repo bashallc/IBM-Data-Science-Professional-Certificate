{
 "cells": [
  {
   "cell_type": "markdown",
   "metadata": {},
   "source": [
    "Import Modules"
   ]
  },
  {
   "cell_type": "code",
   "execution_count": 1,
   "metadata": {},
   "outputs": [],
   "source": [
    "import requests\n",
    "import pandas as pd"
   ]
  },
  {
   "cell_type": "code",
   "execution_count": 2,
   "metadata": {},
   "outputs": [],
   "source": [
    "website_url = requests.get(\"https://en.wikipedia.org/wiki/List_of_postal_codes_of_Canada:_M\").text"
   ]
  },
  {
   "cell_type": "markdown",
   "metadata": {},
   "source": [
    "get website data"
   ]
  },
  {
   "cell_type": "code",
   "execution_count": 3,
   "metadata": {},
   "outputs": [],
   "source": [
    "from bs4 import BeautifulSoup\n",
    "soup = BeautifulSoup(website_url,\"lxml\")\n"
   ]
  },
  {
   "cell_type": "markdown",
   "metadata": {},
   "source": [
    "iterate through table rows"
   ]
  },
  {
   "cell_type": "code",
   "execution_count": 4,
   "metadata": {},
   "outputs": [],
   "source": [
    "pcs = []\n",
    "prevP = \"\"\n",
    "currN = \"\"\n",
    "prevB = \"\"\n",
    "for table_row in soup.select(\"table.wikitable tr\"):\n",
    "    cells = table_row.findAll('td')\n",
    "    if len(cells) > 0:\n",
    "        pc = cells[0].text.strip()\n",
    "        b = cells[1].text.strip()\n",
    "        n = cells[2].text.strip()\n",
    "        if ((b == \"Not assigned\" and n==\"Not assigned\" or b == \"blank\")):\n",
    "            a=\"skipping\"\n",
    "        else:\n",
    "            if (n ==\"Not Assigned\"):\n",
    "                n = b; #neighbourhood becomes borough\n",
    "            if (pc == prevP):\n",
    "                currN = currN + \",\" + n #seperate if more than one with comma\n",
    "            else:\n",
    "                if (prevP != \"\"):\n",
    "                    pcs.append([prevP,prevB,currN])\n",
    "                prevP = pc\n",
    "                prevB = b\n",
    "                currN = n\n",
    "pcs.append([prevP,prevB,currN])\n",
    "df = pd.DataFrame(pcs,columns=['Postal Code','Borough','Neighborhood']).sort_values(by=['Postal Code'])"
   ]
  },
  {
   "cell_type": "markdown",
   "metadata": {},
   "source": [
    "show first 5 enties"
   ]
  },
  {
   "cell_type": "code",
   "execution_count": 5,
   "metadata": {},
   "outputs": [
    {
     "data": {
      "text/html": [
       "<div>\n",
       "<style scoped>\n",
       "    .dataframe tbody tr th:only-of-type {\n",
       "        vertical-align: middle;\n",
       "    }\n",
       "\n",
       "    .dataframe tbody tr th {\n",
       "        vertical-align: top;\n",
       "    }\n",
       "\n",
       "    .dataframe thead th {\n",
       "        text-align: right;\n",
       "    }\n",
       "</style>\n",
       "<table border=\"1\" class=\"dataframe\">\n",
       "  <thead>\n",
       "    <tr style=\"text-align: right;\">\n",
       "      <th></th>\n",
       "      <th>Postal Code</th>\n",
       "      <th>Borough</th>\n",
       "      <th>Neighborhood</th>\n",
       "    </tr>\n",
       "  </thead>\n",
       "  <tbody>\n",
       "    <tr>\n",
       "      <th>6</th>\n",
       "      <td>M1B</td>\n",
       "      <td>Scarborough</td>\n",
       "      <td>Rouge,Malvern</td>\n",
       "    </tr>\n",
       "    <tr>\n",
       "      <th>12</th>\n",
       "      <td>M1C</td>\n",
       "      <td>Scarborough</td>\n",
       "      <td>Highland Creek,Rouge Hill,Port Union</td>\n",
       "    </tr>\n",
       "    <tr>\n",
       "      <th>18</th>\n",
       "      <td>M1E</td>\n",
       "      <td>Scarborough</td>\n",
       "      <td>Guildwood,Morningside,West Hill</td>\n",
       "    </tr>\n",
       "    <tr>\n",
       "      <th>22</th>\n",
       "      <td>M1G</td>\n",
       "      <td>Scarborough</td>\n",
       "      <td>Woburn</td>\n",
       "    </tr>\n",
       "    <tr>\n",
       "      <th>26</th>\n",
       "      <td>M1H</td>\n",
       "      <td>Scarborough</td>\n",
       "      <td>Cedarbrae</td>\n",
       "    </tr>\n",
       "  </tbody>\n",
       "</table>\n",
       "</div>"
      ],
      "text/plain": [
       "   Postal Code      Borough                          Neighborhood\n",
       "6          M1B  Scarborough                         Rouge,Malvern\n",
       "12         M1C  Scarborough  Highland Creek,Rouge Hill,Port Union\n",
       "18         M1E  Scarborough       Guildwood,Morningside,West Hill\n",
       "22         M1G  Scarborough                                Woburn\n",
       "26         M1H  Scarborough                             Cedarbrae"
      ]
     },
     "execution_count": 5,
     "metadata": {},
     "output_type": "execute_result"
    }
   ],
   "source": [
    "df.head()"
   ]
  },
  {
   "cell_type": "code",
   "execution_count": 6,
   "metadata": {},
   "outputs": [
    {
     "data": {
      "text/plain": [
       "(103, 3)"
      ]
     },
     "execution_count": 6,
     "metadata": {},
     "output_type": "execute_result"
    }
   ],
   "source": [
    "df.shape"
   ]
  },
  {
   "cell_type": "code",
   "execution_count": 7,
   "metadata": {},
   "outputs": [],
   "source": [
    "import pandas as pd\n",
    "import requests\n",
    "import csv"
   ]
  },
  {
   "cell_type": "code",
   "execution_count": 8,
   "metadata": {},
   "outputs": [],
   "source": [
    "import pandas as pd\n",
    "import io\n",
    "import requests\n",
    "url=\"http://cocl.us/Geospatial_data\"\n",
    "s=requests.get(url).content\n",
    "df2=pd.read_csv(io.StringIO(s.decode('utf-8')))\n"
   ]
  },
  {
   "cell_type": "code",
   "execution_count": 9,
   "metadata": {},
   "outputs": [
    {
     "data": {
      "text/html": [
       "<div>\n",
       "<style scoped>\n",
       "    .dataframe tbody tr th:only-of-type {\n",
       "        vertical-align: middle;\n",
       "    }\n",
       "\n",
       "    .dataframe tbody tr th {\n",
       "        vertical-align: top;\n",
       "    }\n",
       "\n",
       "    .dataframe thead th {\n",
       "        text-align: right;\n",
       "    }\n",
       "</style>\n",
       "<table border=\"1\" class=\"dataframe\">\n",
       "  <thead>\n",
       "    <tr style=\"text-align: right;\">\n",
       "      <th></th>\n",
       "      <th>Postal Code</th>\n",
       "      <th>Latitude</th>\n",
       "      <th>Longitude</th>\n",
       "    </tr>\n",
       "  </thead>\n",
       "  <tbody>\n",
       "    <tr>\n",
       "      <th>0</th>\n",
       "      <td>M1B</td>\n",
       "      <td>43.806686</td>\n",
       "      <td>-79.194353</td>\n",
       "    </tr>\n",
       "    <tr>\n",
       "      <th>1</th>\n",
       "      <td>M1C</td>\n",
       "      <td>43.784535</td>\n",
       "      <td>-79.160497</td>\n",
       "    </tr>\n",
       "    <tr>\n",
       "      <th>2</th>\n",
       "      <td>M1E</td>\n",
       "      <td>43.763573</td>\n",
       "      <td>-79.188711</td>\n",
       "    </tr>\n",
       "    <tr>\n",
       "      <th>3</th>\n",
       "      <td>M1G</td>\n",
       "      <td>43.770992</td>\n",
       "      <td>-79.216917</td>\n",
       "    </tr>\n",
       "    <tr>\n",
       "      <th>4</th>\n",
       "      <td>M1H</td>\n",
       "      <td>43.773136</td>\n",
       "      <td>-79.239476</td>\n",
       "    </tr>\n",
       "  </tbody>\n",
       "</table>\n",
       "</div>"
      ],
      "text/plain": [
       "  Postal Code   Latitude  Longitude\n",
       "0         M1B  43.806686 -79.194353\n",
       "1         M1C  43.784535 -79.160497\n",
       "2         M1E  43.763573 -79.188711\n",
       "3         M1G  43.770992 -79.216917\n",
       "4         M1H  43.773136 -79.239476"
      ]
     },
     "execution_count": 9,
     "metadata": {},
     "output_type": "execute_result"
    }
   ],
   "source": [
    "df2.head()"
   ]
  },
  {
   "cell_type": "code",
   "execution_count": 10,
   "metadata": {},
   "outputs": [],
   "source": [
    "df3 = pd.merge(df, df2, on=\"Postal Code\")"
   ]
  },
  {
   "cell_type": "code",
   "execution_count": 11,
   "metadata": {},
   "outputs": [],
   "source": [
    "import folium\n",
    "import numpy as np\n",
    "from sklearn.cluster import KMeans\n",
    "import matplotlib.cm as cm\n",
    "import matplotlib.colors as colors\n",
    "from geopy.geocoders import Nominatim \n",
    "import datetime\n",
    "from pandas.io.json import json_normalize \n",
    "%matplotlib inline"
   ]
  },
  {
   "cell_type": "code",
   "execution_count": 12,
   "metadata": {},
   "outputs": [
    {
     "data": {
      "text/html": [
       "<div>\n",
       "<style scoped>\n",
       "    .dataframe tbody tr th:only-of-type {\n",
       "        vertical-align: middle;\n",
       "    }\n",
       "\n",
       "    .dataframe tbody tr th {\n",
       "        vertical-align: top;\n",
       "    }\n",
       "\n",
       "    .dataframe thead th {\n",
       "        text-align: right;\n",
       "    }\n",
       "</style>\n",
       "<table border=\"1\" class=\"dataframe\">\n",
       "  <thead>\n",
       "    <tr style=\"text-align: right;\">\n",
       "      <th></th>\n",
       "      <th>Postal Code</th>\n",
       "      <th>Borough</th>\n",
       "      <th>Neighborhood</th>\n",
       "      <th>Latitude</th>\n",
       "      <th>Longitude</th>\n",
       "    </tr>\n",
       "  </thead>\n",
       "  <tbody>\n",
       "    <tr>\n",
       "      <th>0</th>\n",
       "      <td>M4E</td>\n",
       "      <td>East Toronto</td>\n",
       "      <td>The Beaches</td>\n",
       "      <td>43.676357</td>\n",
       "      <td>-79.293031</td>\n",
       "    </tr>\n",
       "    <tr>\n",
       "      <th>1</th>\n",
       "      <td>M4K</td>\n",
       "      <td>East Toronto</td>\n",
       "      <td>The Danforth West,Riverdale</td>\n",
       "      <td>43.679557</td>\n",
       "      <td>-79.352188</td>\n",
       "    </tr>\n",
       "    <tr>\n",
       "      <th>2</th>\n",
       "      <td>M4L</td>\n",
       "      <td>East Toronto</td>\n",
       "      <td>The Beaches West,India Bazaar</td>\n",
       "      <td>43.668999</td>\n",
       "      <td>-79.315572</td>\n",
       "    </tr>\n",
       "    <tr>\n",
       "      <th>3</th>\n",
       "      <td>M4M</td>\n",
       "      <td>East Toronto</td>\n",
       "      <td>Studio District</td>\n",
       "      <td>43.659526</td>\n",
       "      <td>-79.340923</td>\n",
       "    </tr>\n",
       "    <tr>\n",
       "      <th>4</th>\n",
       "      <td>M4N</td>\n",
       "      <td>Central Toronto</td>\n",
       "      <td>Lawrence Park</td>\n",
       "      <td>43.728020</td>\n",
       "      <td>-79.388790</td>\n",
       "    </tr>\n",
       "  </tbody>\n",
       "</table>\n",
       "</div>"
      ],
      "text/plain": [
       "  Postal Code          Borough                   Neighborhood   Latitude  \\\n",
       "0         M4E     East Toronto                    The Beaches  43.676357   \n",
       "1         M4K     East Toronto    The Danforth West,Riverdale  43.679557   \n",
       "2         M4L     East Toronto  The Beaches West,India Bazaar  43.668999   \n",
       "3         M4M     East Toronto                Studio District  43.659526   \n",
       "4         M4N  Central Toronto                  Lawrence Park  43.728020   \n",
       "\n",
       "   Longitude  \n",
       "0 -79.293031  \n",
       "1 -79.352188  \n",
       "2 -79.315572  \n",
       "3 -79.340923  \n",
       "4 -79.388790  "
      ]
     },
     "execution_count": 12,
     "metadata": {},
     "output_type": "execute_result"
    }
   ],
   "source": [
    "data = df3[df3['Borough'].str.contains('Toronto', regex = False)].reset_index(drop=True)\n",
    "data.head()"
   ]
  },
  {
   "cell_type": "code",
   "execution_count": 13,
   "metadata": {},
   "outputs": [
    {
     "data": {
      "text/html": [
       "<div>\n",
       "<style scoped>\n",
       "    .dataframe tbody tr th:only-of-type {\n",
       "        vertical-align: middle;\n",
       "    }\n",
       "\n",
       "    .dataframe tbody tr th {\n",
       "        vertical-align: top;\n",
       "    }\n",
       "\n",
       "    .dataframe thead th {\n",
       "        text-align: right;\n",
       "    }\n",
       "</style>\n",
       "<table border=\"1\" class=\"dataframe\">\n",
       "  <thead>\n",
       "    <tr style=\"text-align: right;\">\n",
       "      <th></th>\n",
       "      <th>Postal Code</th>\n",
       "      <th>Borough</th>\n",
       "      <th>Neighborhood</th>\n",
       "      <th>Latitude</th>\n",
       "      <th>Longitude</th>\n",
       "    </tr>\n",
       "  </thead>\n",
       "  <tbody>\n",
       "    <tr>\n",
       "      <th>0</th>\n",
       "      <td>M4E</td>\n",
       "      <td>East Toronto</td>\n",
       "      <td>The Beaches</td>\n",
       "      <td>43.67635739999999</td>\n",
       "      <td>-79.2930312</td>\n",
       "    </tr>\n",
       "    <tr>\n",
       "      <th>1</th>\n",
       "      <td>M4K</td>\n",
       "      <td>East Toronto</td>\n",
       "      <td>The Danforth West,Riverdale</td>\n",
       "      <td>43.6795571</td>\n",
       "      <td>-79.352188</td>\n",
       "    </tr>\n",
       "    <tr>\n",
       "      <th>2</th>\n",
       "      <td>M4L</td>\n",
       "      <td>East Toronto</td>\n",
       "      <td>The Beaches West,India Bazaar</td>\n",
       "      <td>43.6689985</td>\n",
       "      <td>-79.31557159999998</td>\n",
       "    </tr>\n",
       "    <tr>\n",
       "      <th>3</th>\n",
       "      <td>M4M</td>\n",
       "      <td>East Toronto</td>\n",
       "      <td>Studio District</td>\n",
       "      <td>43.6595255</td>\n",
       "      <td>-79.340923</td>\n",
       "    </tr>\n",
       "    <tr>\n",
       "      <th>4</th>\n",
       "      <td>M4N</td>\n",
       "      <td>Central Toronto</td>\n",
       "      <td>Lawrence Park</td>\n",
       "      <td>43.7280205</td>\n",
       "      <td>-79.3887901</td>\n",
       "    </tr>\n",
       "  </tbody>\n",
       "</table>\n",
       "</div>"
      ],
      "text/plain": [
       "  Postal Code          Borough                   Neighborhood  \\\n",
       "0         M4E     East Toronto                    The Beaches   \n",
       "1         M4K     East Toronto    The Danforth West,Riverdale   \n",
       "2         M4L     East Toronto  The Beaches West,India Bazaar   \n",
       "3         M4M     East Toronto                Studio District   \n",
       "4         M4N  Central Toronto                  Lawrence Park   \n",
       "\n",
       "            Latitude           Longitude  \n",
       "0  43.67635739999999         -79.2930312  \n",
       "1         43.6795571          -79.352188  \n",
       "2         43.6689985  -79.31557159999998  \n",
       "3         43.6595255          -79.340923  \n",
       "4         43.7280205         -79.3887901  "
      ]
     },
     "execution_count": 13,
     "metadata": {},
     "output_type": "execute_result"
    }
   ],
   "source": [
    "\n",
    "col_names = ['Postal Code','Borough','Neighborhood','Latitude','Longitude']\n",
    "toronto_neigh = pd.DataFrame(columns = col_names)\n",
    "#toronto_neigh\n",
    "for i in range(data.shape[0]):\n",
    "    postcode = data.loc[i, 'Postal Code']\n",
    "    borough = data.loc[i, 'Borough']\n",
    "    lat = data.loc[i, 'Latitude'].astype(float)\n",
    "    lng = data.loc[i, 'Longitude'].astype(float)\n",
    "    neigh = data.loc[i,'Neighborhood'].split(\", \")\n",
    "    for j in range(len(neigh)):\n",
    "        toronto_neigh = toronto_neigh.append(pd.DataFrame(np.array([[postcode, borough, neigh[j], lat, lng]]), columns = col_names))\n",
    "\n",
    "toronto_neigh = toronto_neigh.reset_index(drop = True)\n",
    "toronto_neigh.head()"
   ]
  },
  {
   "cell_type": "code",
   "execution_count": 14,
   "metadata": {},
   "outputs": [
    {
     "data": {
      "text/html": [
       "<div style=\"width:100%;\"><div style=\"position:relative;width:100%;height:0;padding-bottom:60%;\"><iframe src=\"data:text/html;charset=utf-8;base64,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\" style=\"position:absolute;width:100%;height:100%;left:0;top:0;border:none !important;\" allowfullscreen webkitallowfullscreen mozallowfullscreen></iframe></div></div>"
      ],
      "text/plain": [
       "<folium.folium.Map at 0x190a984e668>"
      ]
     },
     "metadata": {},
     "output_type": "display_data"
    }
   ],
   "source": [
    "# create folium map\n",
    "toronto_map = folium.Map(location = [lat, lng], zoom_start = 11\n",
    "                        )\n",
    "for lat, lng, borough, neighborhood in zip(toronto_neigh['Latitude'], toronto_neigh['Longitude'], toronto_neigh['Borough'],toronto_neigh['Neighborhood']):\n",
    "    label = '{}, {} ({}, {})'.format(neighborhood, borough, lat, lng)\n",
    "    label = folium.Popup(label, parse_html= True)\n",
    "    folium.CircleMarker([float(lat),float(lng)],\n",
    "                       radius = 3,\n",
    "                       popup = label,\n",
    "                       color = 'red',\n",
    "                       fill = True,\n",
    "                       fill_color = '#a72920',\n",
    "                       fill_opacity = 0.5,\n",
    "                       parse_html = False).add_to(toronto_map)\n",
    "display(toronto_map)"
   ]
  },
  {
   "cell_type": "markdown",
   "metadata": {},
   "source": [
    "api call data"
   ]
  },
  {
   "cell_type": "code",
   "execution_count": 15,
   "metadata": {},
   "outputs": [
    {
     "name": "stdout",
     "output_type": "stream",
     "text": [
      "Your credentails:\n",
      "CLIENT_ID: 3ECJQTXHODVLXC0PN5LT5NM2ABWKXK4YORSKACOYAQ1RBOU1\n",
      "CLIENT_SECRET:0XCMHV3VM5B3MDYANVU20ARUNNHL2LOPJ0DZNQYOYSJWTZ41\n"
     ]
    }
   ],
   "source": [
    "\n",
    "\n",
    "now = datetime.datetime.now()\n",
    "date = \"%4d%02d%02d\" % (now.year, now.month, now.day)\n",
    "CLIENT_ID = '3ECJQTXHODVLXC0PN5LT5NM2ABWKXK4YORSKACOYAQ1RBOU1' # Foursquare ID\n",
    "CLIENT_SECRET = '0XCMHV3VM5B3MDYANVU20ARUNNHL2LOPJ0DZNQYOYSJWTZ41' # Foursquare Secret\n",
    "\n",
    "\n",
    "print('Your credentails:')\n",
    "print('CLIENT_ID: ' + CLIENT_ID)\n",
    "print('CLIENT_SECRET:' + CLIENT_SECRET)\n",
    "VERSION = date "
   ]
  },
  {
   "cell_type": "code",
   "execution_count": 16,
   "metadata": {},
   "outputs": [],
   "source": [
    "i = 0\n",
    "latitude = toronto_neigh.loc[i, 'Latitude'] # neighborhood latitude value\n",
    "longitude = toronto_neigh.loc[i, 'Longitude'] # neighborhood longitude value\n",
    "neighborhood_name = toronto_neigh.loc[i, 'Neighborhood'] # neighborhood name\n",
    "\n",
    "radius = 500\n",
    "limit = 100\n",
    "url = \"https://api.foursquare.com/v2/venues/search?client_id={}&client_secret={}&ll={},{}&v={}&radius={}&limit={}\".format(\n",
    "        CLIENT_ID,\n",
    "        CLIENT_SECRET,\n",
    "        latitude,\n",
    "        longitude,\n",
    "        VERSION,\n",
    "        radius,\n",
    "        limit)\n",
    "results = requests.get(url).json()"
   ]
  },
  {
   "cell_type": "code",
   "execution_count": 17,
   "metadata": {},
   "outputs": [],
   "source": [
    "def get_category_type(row):\n",
    "    try:\n",
    "        categories_list = row['categories']\n",
    "    except:\n",
    "        categories_list = row['venue.categories']\n",
    "        \n",
    "    if len(categories_list) == 0:\n",
    "        return None\n",
    "    else:\n",
    "        return categories_list[0]['name']"
   ]
  },
  {
   "cell_type": "markdown",
   "metadata": {},
   "source": [
    "call for venue data from neighborhoods"
   ]
  },
  {
   "cell_type": "code",
   "execution_count": 18,
   "metadata": {},
   "outputs": [],
   "source": [
    "venues = results['response']['venues']\n",
    "    \n",
    "nearby_venues = json_normalize(venues) \n",
    "\n",
    "# filter columns\n",
    "filtered_columns = ['name', 'categories', 'location.lat', 'location.lng']\n",
    "nearby_venues =nearby_venues.loc[:, filtered_columns]\n",
    "\n",
    "nearby_venues['categories'] = nearby_venues.apply(get_category_type, axis=1)\n",
    "\n",
    "nearby_venues.columns = [col.split(\".\")[-1] for col in nearby_venues.columns]\n",
    "\n"
   ]
  },
  {
   "cell_type": "code",
   "execution_count": 19,
   "metadata": {},
   "outputs": [],
   "source": [
    "\n",
    "def getNearbyVenues(names, latitudes, longitudes, radius=500, LIMIT = 100):\n",
    "    \n",
    "    venues_list=[]\n",
    "    for name, lat, lng in zip(names, latitudes, longitudes):\n",
    "        print(name)\n",
    "            \n",
    "        \n",
    "        url = 'https://api.foursquare.com/v2/venues/explore?&client_id={}&client_secret={}&v={}&ll={},{}&radius={}&limit={}'.format(\n",
    "            CLIENT_ID, \n",
    "            CLIENT_SECRET, \n",
    "            VERSION, \n",
    "            lat, \n",
    "            lng, \n",
    "            radius, \n",
    "            LIMIT)\n",
    "            \n",
    "        \n",
    "        results = requests.get(url).json()[\"response\"]['groups'][0]['items']\n",
    "        \n",
    "        # return only relevant information for each nearby venue\n",
    "        venues_list.append([(\n",
    "            name, \n",
    "            lat, \n",
    "            lng, \n",
    "            v['venue']['name'], \n",
    "            v['venue']['location']['lat'], \n",
    "            v['venue']['location']['lng'],  \n",
    "            v['venue']['categories'][0]['name']) for v in results])\n",
    "\n",
    "    nearby_venues = pd.DataFrame([item for venue_list in venues_list for item in venue_list])\n",
    "    nearby_venues.columns = ['Neighborhood', \n",
    "                  'Neighborhood Latitude', \n",
    "                  'Neighborhood Longitude', \n",
    "                  'Venue', \n",
    "                  'Venue Latitude', \n",
    "                  'Venue Longitude', \n",
    "                  'Venue Category']\n",
    "    \n",
    "    return(nearby_venues)"
   ]
  },
  {
   "cell_type": "markdown",
   "metadata": {},
   "source": [
    "get venue data"
   ]
  },
  {
   "cell_type": "code",
   "execution_count": 20,
   "metadata": {},
   "outputs": [
    {
     "name": "stdout",
     "output_type": "stream",
     "text": [
      "The Beaches\n",
      "The Danforth West,Riverdale\n",
      "The Beaches West,India Bazaar\n",
      "Studio District\n",
      "Lawrence Park\n",
      "Davisville North\n",
      "North Toronto West\n",
      "Davisville\n",
      "Moore Park,Summerhill East\n",
      "Deer Park,Forest Hill SE,Rathnelly,South Hill,Summerhill West\n",
      "Rosedale\n",
      "Cabbagetown,St. James Town\n",
      "Church and Wellesley\n",
      "Harbourfront\n",
      "Ryerson,Garden District\n",
      "St. James Town\n",
      "Berczy Park\n",
      "Central Bay Street\n",
      "Adelaide,King,Richmond\n",
      "Harbourfront East,Toronto Islands,Union Station\n",
      "Design Exchange,Toronto Dominion Centre\n",
      "Commerce Court,Victoria Hotel\n",
      "Roselawn\n",
      "Forest Hill North,Forest Hill West\n",
      "The Annex,North Midtown,Yorkville\n",
      "Harbord,University of Toronto\n",
      "Chinatown,Grange Park,Kensington Market\n",
      "CN Tower,Bathurst Quay,Island airport,Harbourfront West,King and Spadina,Railway Lands,South Niagara\n",
      "Stn A PO Boxes 25 The Esplanade\n",
      "First Canadian Place,Underground city\n",
      "Christie\n",
      "Dovercourt Village,Dufferin\n",
      "Little Portugal,Trinity\n",
      "Brockton,Exhibition Place,Parkdale Village\n",
      "High Park,The Junction South\n",
      "Parkdale,Roncesvalles\n",
      "Runnymede,Swansea\n",
      "Queen's Park\n",
      "Business Reply Mail Processing Centre 969 Eastern\n"
     ]
    }
   ],
   "source": [
    "toronto_venues = getNearbyVenues(names=toronto_neigh['Neighborhood'],\n",
    "                                   latitudes=toronto_neigh['Latitude'],\n",
    "                                   longitudes=toronto_neigh['Longitude']\n",
    "                                  )"
   ]
  },
  {
   "cell_type": "code",
   "execution_count": 21,
   "metadata": {},
   "outputs": [],
   "source": [
    "toronto_onehot = pd.get_dummies(toronto_venues[['Venue Category']], prefix=\"\", prefix_sep=\"\")\n",
    "toronto_onehot['Neighborhood'] = toronto_venues['Neighborhood'] \n",
    "#neighborhood column to the first column\n",
    "fixed_columns = [toronto_onehot.columns[-1]] + list(toronto_onehot.columns[:-1])\n",
    "toronto_onehot = toronto_onehot[fixed_columns]\n",
    "\n",
    "toronto_grouped = toronto_onehot.groupby(['Neighborhood']).mean().reset_index()"
   ]
  },
  {
   "cell_type": "code",
   "execution_count": 22,
   "metadata": {},
   "outputs": [],
   "source": [
    "def return_most_common_venues(row, num_top_venues):\n",
    "    row_categories = row.iloc[1:]\n",
    "    row_categories_sorted = row_categories.sort_values(ascending=False)\n",
    "    \n",
    "    return row_categories_sorted.index.values[0:num_top_venues]"
   ]
  },
  {
   "cell_type": "markdown",
   "metadata": {},
   "source": [
    "pre process data ready for kcluster"
   ]
  },
  {
   "cell_type": "code",
   "execution_count": 23,
   "metadata": {},
   "outputs": [],
   "source": [
    "num_top_venues = 5\n",
    "\n",
    "indicators = ['st', 'nd', 'rd']\n",
    "\n",
    "# create columns according to number of top venues\n",
    "columns = []\n",
    "for ind in np.arange(num_top_venues):\n",
    "    try:\n",
    "        columns.append('{}{} Most Common Venue'.format(ind+1, indicators[ind]))\n",
    "    except:\n",
    "        columns.append('{}th Most Common Venue'.format(ind+1))\n",
    "\n",
    "# create a new dataframe\n",
    "neighborhoods_venues_sorted = pd.DataFrame(columns=columns)\n",
    "neighborhoods_venues_sorted['Neighborhood'] = toronto_grouped['Neighborhood']\n",
    "\n",
    "fixed_columns = [neighborhoods_venues_sorted.columns[-1]] + list(neighborhoods_venues_sorted.columns[:-1])\n",
    "neighborhoods_venues_sorted = neighborhoods_venues_sorted[fixed_columns]\n",
    "\n",
    "for ind in np.arange(toronto_grouped.shape[0]):\n",
    "    neighborhoods_venues_sorted.iloc[ind, 1:] = return_most_common_venues(toronto_grouped.iloc[ind, :], num_top_venues)\n"
   ]
  },
  {
   "cell_type": "code",
   "execution_count": 24,
   "metadata": {},
   "outputs": [],
   "source": [
    "# set number of clusters\n",
    "kclusters = 5\n",
    "\n",
    "toronto_grouped_clustering = toronto_grouped.drop('Neighborhood', 1)\n",
    "#cluster\n",
    "kmeans = KMeans(n_clusters=kclusters, random_state=0).fit(toronto_grouped_clustering)\n"
   ]
  },
  {
   "cell_type": "code",
   "execution_count": 25,
   "metadata": {},
   "outputs": [],
   "source": [
    "neighborhoods_venues_sorted.insert(0, 'Cluster Labels', kmeans.labels_)\n",
    "\n",
    "toronto_merged = toronto_neigh\n",
    "\n",
    "# merge toronto_grouped with toronto_data to add latitude/longitude for each neighborhood\n",
    "toronto_merged = toronto_merged.join(neighborhoods_venues_sorted.set_index('Neighborhood'), on='Neighborhood')\n"
   ]
  },
  {
   "cell_type": "markdown",
   "metadata": {},
   "source": [
    "map data with clusters shown"
   ]
  },
  {
   "cell_type": "code",
   "execution_count": 26,
   "metadata": {},
   "outputs": [
    {
     "data": {
      "text/html": [
       "<div style=\"width:100%;\"><div style=\"position:relative;width:100%;height:0;padding-bottom:60%;\"><iframe src=\"data:text/html;charset=utf-8;base64,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\" style=\"position:absolute;width:100%;height:100%;left:0;top:0;border:none !important;\" allowfullscreen webkitallowfullscreen mozallowfullscreen></iframe></div></div>"
      ],
      "text/plain": [
       "<folium.folium.Map at 0x190a9947f60>"
      ]
     },
     "execution_count": 26,
     "metadata": {},
     "output_type": "execute_result"
    }
   ],
   "source": [
    "\n",
    "map_clusters = folium.Map(location=[latitude, longitude], zoom_start=11)\n",
    "\n",
    "x = np.arange(kclusters)\n",
    "ys = [i + x + (i*x)**2 for i in range(kclusters)]\n",
    "colors_array = cm.rainbow(np.linspace(0, 1, len(ys)))\n",
    "rainbow = [colors.rgb2hex(i) for i in colors_array]\n",
    "\n",
    "markers_colors = []\n",
    "for lat, lon, poi, cluster in zip(toronto_merged['Latitude'], toronto_merged['Longitude'], toronto_merged['Neighborhood'], toronto_merged['Cluster Labels']):\n",
    "    label = folium.Popup(str(poi) + ' Cluster ' + str(cluster), parse_html=True)\n",
    "    folium.CircleMarker(\n",
    "        [float(lat), float(lon)],\n",
    "        radius=5,\n",
    "        popup=label,\n",
    "        color=rainbow[cluster-1],\n",
    "        fill=True,\n",
    "        fill_color=rainbow[cluster-1],\n",
    "        fill_opacity=0.7).add_to(map_clusters)\n",
    "       \n",
    "map_clusters"
   ]
  }
 ],
 "metadata": {
  "kernelspec": {
   "display_name": "Python 3",
   "language": "python",
   "name": "python3"
  },
  "language_info": {
   "codemirror_mode": {
    "name": "ipython",
    "version": 3
   },
   "file_extension": ".py",
   "mimetype": "text/x-python",
   "name": "python",
   "nbconvert_exporter": "python",
   "pygments_lexer": "ipython3",
   "version": "3.7.3"
  }
 },
 "nbformat": 4,
 "nbformat_minor": 2
}
